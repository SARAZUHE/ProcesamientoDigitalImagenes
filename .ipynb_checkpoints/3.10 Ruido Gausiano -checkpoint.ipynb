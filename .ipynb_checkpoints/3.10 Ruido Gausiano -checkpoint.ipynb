{
 "cells": [
  {
   "cell_type": "markdown",
   "metadata": {},
   "source": [
    "Espectro de energía constante para todas las frecuencias:\n",
    "   • Afecta a la imagen completa.\n",
    "\n",
    "   • La intensidad de todos los píxeles se ve alterada.\n",
    "\n",
    "Descargar de la página del curso la imagen kidney.tif\n",
    "\n",
    "Obtener el histograma de la imagen\n",
    "\n",
    "Añadir ruido gaussiano que afecte al 2%,3% y6% de los pixeles y tres valores de desviación \n",
    "estandard\n",
    "\n",
    "Obtener el histograma de la imagen con ruido para cada uno de los parámetros anteriores\n",
    "\n",
    "Comparar histogramas, original y los que resulten de cada porcentaje de ruido en los pixeles.\n",
    "\n",
    "Debe usar la opción subplot para mostrar las imagenes e histogramas. Filtrar el ruido gaussiano con tres tipos de ventanas 3x3,4x4 y 5x5.\n",
    "\n",
    "Escriba en cuatro oraciones como considera que deben ser los valores de la desviación estandard para garantizar la remoción del ruido de tipo Gaussiano."
   ]
  },
  {
   "attachments": {},
   "cell_type": "markdown",
   "metadata": {},
   "source": [
    "Imagen utilizada para la evaluación:\n",
    "    \n",
    "    ![ima_medica.tif](attachment:ima_medica.tif)"
   ]
  },
  {
   "cell_type": "code",
   "execution_count": 2,
   "metadata": {},
   "outputs": [
    {
     "ename": "NameError",
     "evalue": "name 'mpimg' is not defined",
     "output_type": "error",
     "traceback": [
      "\u001b[0;31m---------------------------------------------------------------------------\u001b[0m",
      "\u001b[0;31mNameError\u001b[0m                                 Traceback (most recent call last)",
      "\u001b[0;32m<ipython-input-2-2befdec2bd1d>\u001b[0m in \u001b[0;36m<module>\u001b[0;34m()\u001b[0m\n\u001b[1;32m      5\u001b[0m \u001b[0mget_ipython\u001b[0m\u001b[0;34m(\u001b[0m\u001b[0;34m)\u001b[0m\u001b[0;34m.\u001b[0m\u001b[0mmagic\u001b[0m\u001b[0;34m(\u001b[0m\u001b[0;34m'matplotlib inline'\u001b[0m\u001b[0;34m)\u001b[0m\u001b[0;34m\u001b[0m\u001b[0m\n\u001b[1;32m      6\u001b[0m \u001b[0;34m\u001b[0m\u001b[0m\n\u001b[0;32m----> 7\u001b[0;31m \u001b[0mimg\u001b[0m\u001b[0;34m=\u001b[0m\u001b[0mmpimg\u001b[0m\u001b[0;34m.\u001b[0m\u001b[0mimread\u001b[0m\u001b[0;34m(\u001b[0m\u001b[0;34m'Imagenes_Pruebas/ima_medica.tif'\u001b[0m\u001b[0;34m)\u001b[0m\u001b[0;34m\u001b[0m\u001b[0m\n\u001b[0m\u001b[1;32m      8\u001b[0m \u001b[0mimgplot\u001b[0m \u001b[0;34m=\u001b[0m \u001b[0mplt\u001b[0m\u001b[0;34m.\u001b[0m\u001b[0mimshow\u001b[0m\u001b[0;34m(\u001b[0m\u001b[0mimg\u001b[0m\u001b[0;34m)\u001b[0m\u001b[0;34m\u001b[0m\u001b[0m\n\u001b[1;32m      9\u001b[0m \u001b[0;34m\u001b[0m\u001b[0m\n",
      "\u001b[0;31mNameError\u001b[0m: name 'mpimg' is not defined"
     ]
    }
   ],
   "source": [
    "import cv2\n",
    "import numpy as np\n",
    "from matplotlib import pyplot as plt\n",
    "img = cv2.imread('home.jpg',0)\n",
    "plt.hist(img.ravel(),256,[0,256]); plt.show()\n",
    "img=mpimg.imread('Imagenes_Pruebas/ima_medica.tif')\n",
    "imgplot = plt.imshow(img)\n",
    "\n"
   ]
  },
  {
   "cell_type": "code",
   "execution_count": null,
   "metadata": {
    "collapsed": true
   },
   "outputs": [],
   "source": []
  }
 ],
 "metadata": {
  "kernelspec": {
   "display_name": "Python 3",
   "language": "python",
   "name": "python3"
  },
  "language_info": {
   "codemirror_mode": {
    "name": "ipython",
    "version": 3
   },
   "file_extension": ".py",
   "mimetype": "text/x-python",
   "name": "python",
   "nbconvert_exporter": "python",
   "pygments_lexer": "ipython3",
   "version": "3.6.3"
  }
 },
 "nbformat": 4,
 "nbformat_minor": 2
}
