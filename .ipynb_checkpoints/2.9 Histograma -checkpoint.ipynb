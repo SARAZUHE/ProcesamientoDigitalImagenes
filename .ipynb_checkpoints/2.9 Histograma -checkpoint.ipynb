{
 "cells": [
  {
   "cell_type": "markdown",
   "metadata": {},
   "source": [
    "Construir la siguiente imagen:\n",
    "\n",
    "im1=[127/255 127/255 0 1;127/255 0 0 1;0 127/255 0 1; 127/255 127/255 0 1]\n",
    "\n",
    "  "
   ]
  },
  {
   "cell_type": "code",
   "execution_count": 40,
   "metadata": {
    "scrolled": true
   },
   "outputs": [
    {
     "name": "stdout",
     "output_type": "stream",
     "text": [
      "[[0.49803922 0.49803922 0.         1.        ]\n",
      " [0.49803922 0.         0.         1.        ]\n",
      " [0.         0.49803922 0.         1.        ]\n",
      " [0.49803922 0.49803922 0.         1.        ]]\n"
     ]
    }
   ],
   "source": [
    "%matplotlib inline\n",
    "import numpy\n",
    "import matplotlib.pyplot as plt\n",
    "\n",
    "from PIL import Image \n",
    "\n",
    "image1 = numpy.asarray([(127/255, 127/255 ,0,1),(127/255, 0, 0,1 ),(0, 127/255,0,1),(127/255, 127/255, 0,1)])\n",
    "\n",
    "\n",
    "print (image1)"
   ]
  },
  {
   "cell_type": "markdown",
   "metadata": {},
   "source": [
    " %Desplegar en escala de grises\n",
    "\n",
    "   r=[0 0.5 1];\n",
    "   \n",
    "   g=[0 0.5 1];\n",
    "   \n",
    "   b=[0 0.5 1];\n",
    "   \n",
    "   %Trabaja con la transpuesta de cada matriz\n",
    "   \n",
    "   map=[r’ g’ b’];\n",
    " "
   ]
  },
  {
   "cell_type": "code",
   "execution_count": 6,
   "metadata": {},
   "outputs": [
    {
     "name": "stdout",
     "output_type": "stream",
     "text": [
      "[[0. ]\n",
      " [0.5]\n",
      " [1. ]\n",
      " [0. ]\n",
      " [0.5]\n",
      " [1. ]\n",
      " [0. ]\n",
      " [0.5]\n",
      " [1. ]]\n"
     ]
    }
   ],
   "source": [
    "import numpy as np\n",
    "from numpy import matrix\n",
    "\n",
    "r=matrix([0, 0.5, 1])\n",
    "g=matrix([0, 0.5, 1]);\n",
    "b=matrix([0, 0.5, 1]);\n",
    "z=np.concatenate((r.T,g.T,b.T))\n",
    "\n",
    "print ( z)\n"
   ]
  },
  {
   "cell_type": "markdown",
   "metadata": {},
   "source": [
    "  \n",
    "   imagesc(im1);\n",
    "   \n",
    "   %Dale color\n",
    "   \n",
    "  "
   ]
  },
  {
   "cell_type": "code",
   "execution_count": 38,
   "metadata": {},
   "outputs": [
    {
     "data": {
      "image/png": "[encoded data removed]",
      "text/plain": [
       "<Figure size 432x288 with 1 Axes>"
      ]
     },
     "metadata": {},
     "output_type": "display_data"
    }
   ],
   "source": [
    "\n",
    "plt.imshow(image1, interpolation=\"none\")\n",
    "plt.savefig(\"Imagenes_Pruebas/histograma.jpg\")\n"
   ]
  },
  {
   "cell_type": "markdown",
   "metadata": {},
   "source": [
    "colormap(map) ;\n",
    " "
   ]
  },
  {
   "cell_type": "code",
   "execution_count": 8,
   "metadata": {},
   "outputs": [
    {
     "data": {
      "text/plain": [
       "<matplotlib.image.AxesImage at 0x1170c7fd0>"
      ]
     },
     "execution_count": 8,
     "metadata": {},
     "output_type": "execute_result"
    },
    {
     "data": {
      "image/png": "[encoded data removed]",
      "text/plain": [
       "<Figure size 432x288 with 1 Axes>"
      ]
     },
     "metadata": {},
     "output_type": "display_data"
    }
   ],
   "source": [
    "\n",
    "plt.imshow(z, interpolation=\"none\")\n"
   ]
  },
  {
   "cell_type": "markdown",
   "metadata": {},
   "source": [
    "  \n",
    " % histograma\n",
    "   \n",
    "figure imhist(im1,3) ;\n",
    "   \n",
    "¿Cuántos pixeles por cada color se tienen?\n",
    "\n",
    "Recordar que estos datos estan dados para octave\n"
   ]
  },
  {
   "cell_type": "code",
   "execution_count": null,
   "metadata": {},
   "outputs": [],
   "source": [
    "\n"
   ]
  },
  {
   "cell_type": "markdown",
   "metadata": {},
   "source": [
    "https://www.bogotobogo.com/python/OpenCV_Python/python_opencv3_image_histogram_calcHist.php"
   ]
  },
  {
   "cell_type": "code",
   "execution_count": 39,
   "metadata": {},
   "outputs": [
    {
     "data": {
      "image/png": "[encoded data removed]",
      "text/plain": [
       "<Figure size 432x288 with 1 Axes>"
      ]
     },
     "metadata": {},
     "output_type": "display_data"
    }
   ],
   "source": [
    "\n",
    "import cv2\n",
    "import numpy as np\n",
    "from matplotlib import pyplot as plt\n",
    "gray_img = cv2.imread('Imagenes_Pruebas/histograma.jpg', cv2.IMREAD_GRAYSCALE)\n",
    "hist = cv2.calcHist([gray_img],[0],None,[256],[0,256])\n",
    "plt.hist(gray_img.ravel(),256,[0,256])\n",
    "plt.title('Histograma')\n",
    "plt.show()\n"
   ]
  },
  {
   "cell_type": "code",
   "execution_count": null,
   "metadata": {
    "collapsed": true
   },
   "outputs": [],
   "source": []
  }
 ],
 "metadata": {
  "kernelspec": {
   "display_name": "Python 3",
   "language": "python",
   "name": "python3"
  },
  "language_info": {
   "codemirror_mode": {
    "name": "ipython",
    "version": 3
   },
   "file_extension": ".py",
   "mimetype": "text/x-python",
   "name": "python",
   "nbconvert_exporter": "python",
   "pygments_lexer": "ipython3",
   "version": "3.6.3"
  }
 },
 "nbformat": 4,
 "nbformat_minor": 2
}
