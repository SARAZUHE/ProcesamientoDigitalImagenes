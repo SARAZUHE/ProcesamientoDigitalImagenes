{
 "cells": [
  {
   "cell_type": "markdown",
   "metadata": {},
   "source": [
    "# Relleno y filtrado con imfilter\n",
    "\n",
    "\n",
    "# Ejercicio 3.4\n",
    "\n",
    "Dada la siguiente imágen f=[1 2 3 2 1;-1 -2 -3 -2 -1;1 2 3 2 1;-1 -2 -3 -2 -1; 1 2 3 2 1]\n",
    "una ventana de filtrado dada por w=[0 0 0 0 0;0 0 0 0 0;0 0 1 0 0;0 0 0 0 0;0 0 0 0 0;]\n",
    "\n",
    "\n",
    "\n",
    "Aplicar y observar\n",
    "* imfilter(f,w,25,’full’)\n",
    "* imfilter(f,w,25,’same’)\n",
    "* imfilter(f,w,’replicate’,’full’)\n",
    "* imfilter(f,w,’symmetric’,’full’)"
   ]
  },
  {
   "cell_type": "code",
   "execution_count": null,
   "metadata": {},
   "outputs": [],
   "source": [
    "#No he podido localizar una funcion similar "
   ]
  }
 ],
 "metadata": {
  "kernelspec": {
   "display_name": "Python 3",
   "language": "python",
   "name": "python3"
  },
  "language_info": {
   "codemirror_mode": {
    "name": "ipython",
    "version": 3
   },
   "file_extension": ".py",
   "mimetype": "text/x-python",
   "name": "python",
   "nbconvert_exporter": "python",
   "pygments_lexer": "ipython3",
   "version": "3.6.4"
  }
 },
 "nbformat": 4,
 "nbformat_minor": 2
}
